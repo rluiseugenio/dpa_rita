{
 "cells": [
  {
   "cell_type": "code",
   "execution_count": 1,
   "metadata": {},
   "outputs": [
    {
     "name": "stdout",
     "output_type": "stream",
     "text": [
      "Requirement already satisfied: boto3 in /opt/conda/lib/python3.7/site-packages (1.13.20)\n",
      "Requirement already satisfied: botocore<1.17.0,>=1.16.20 in /opt/conda/lib/python3.7/site-packages (from boto3) (1.16.20)\n",
      "Requirement already satisfied: s3transfer<0.4.0,>=0.3.0 in /opt/conda/lib/python3.7/site-packages (from boto3) (0.3.3)\n",
      "Requirement already satisfied: jmespath<1.0.0,>=0.7.1 in /opt/conda/lib/python3.7/site-packages (from boto3) (0.10.0)\n",
      "Requirement already satisfied: urllib3<1.26,>=1.20; python_version != \"3.4\" in /opt/conda/lib/python3.7/site-packages (from botocore<1.17.0,>=1.16.20->boto3) (1.25.7)\n",
      "Requirement already satisfied: docutils<0.16,>=0.10 in /opt/conda/lib/python3.7/site-packages (from botocore<1.17.0,>=1.16.20->boto3) (0.15.2)\n",
      "Requirement already satisfied: python-dateutil<3.0.0,>=2.1 in /opt/conda/lib/python3.7/site-packages (from botocore<1.17.0,>=1.16.20->boto3) (2.8.1)\n",
      "Requirement already satisfied: six>=1.5 in /opt/conda/lib/python3.7/site-packages (from python-dateutil<3.0.0,>=2.1->botocore<1.17.0,>=1.16.20->boto3) (1.14.0)\n",
      "Requirement already satisfied: psycopg2-binary in /opt/conda/lib/python3.7/site-packages (2.8.5)\n"
     ]
    }
   ],
   "source": [
    "!pip install boto3\n",
    "!pip install psycopg2-binary"
   ]
  },
  {
   "cell_type": "markdown",
   "metadata": {},
   "source": [
    "### Checkpoint 6: Final mile(s)\n",
    "+ Pipeline de predicción: Su requieres tendría que buscar el pkl en S3 (training) y haber pasado la validación de FE\n",
    "  + Las predicciones se guardan en S3 y en RDS\n",
    "  + Metadata de predicción en RDS -> gobernanza de modelos (guardar el uuid del archivo con las predicciones)\n",
    "  + Al menos 2 validaciones sobre las predicciones\n",
    "+ Cálculo de bias y fairness con el mejor modelo seleccionado durante el training (a través de python no Web!)\n",
    "  + Persistencia de bias/fairnes, métricas.\n",
    "  + Metadata de bias\n",
    "+ API para exponer tus predicciones, al menos 1 endpoint\n",
    "+ Dashboard de monitoreo de modelo\n",
    "+ README completo, cualquiera que se meta a su github puede reproducir su producto de datos siguiendo sus\n",
    "instrucciones\n",
    "  + Agrega el requirements.txt de tu pyenv\n",
    "  + Agrega una foto de tu pipeline completo todo en verde!\n",
    "\n",
    "Proceso:\n",
    "+ Corremos bias y fairness del mejor modelo\n",
    "  + Visualización de Pipeline\n",
    "  + Persistencia de datos\n",
    "  + Verificación de persistencia de metadatos\n",
    "+ Corremos predicciones\n",
    "  + Visualización de tu pipeline\n",
    "+ Verificamos metadata de predicciones\n",
    "+ Validaciones de predicciones marbles\n",
    "  + Primera vez no pasa (si guardas metadatos, se guardan cuando falla)\n",
    "  + Segunda vez pasa, guarda metadatos\n",
    "+ Verificamos el endpoint de tu API\n",
    "  + Regresamos predicciones\n",
    "+ Verificamos dashboard de monitoreo"
   ]
  },
  {
   "cell_type": "markdown",
   "metadata": {},
   "source": [
    "## 0.1 Reinicia\n",
    "\n",
    "1. Borra modelos: (asegurarse que las credenciales también esten en [default]\n",
    "```\n",
    "aws s3 rm s3://models-dpa --recursive\n",
    "aws s3 rm s3://preds-dpa --recursive\n",
    "```\n",
    "\n",
    "2. Borra info de tablas (en psql)\n",
    "\n",
    "```\n",
    "delete from metadatos.bias;\n",
    "delete from metadatos.models;\n",
    "delete from predictions.train;\n",
    "delete from predictions.test;\n",
    "delete from metadatos.predictions;\n",
    "```\n",
    "\n",
    "3. Corre modelo\n",
    "```\n",
    "PYTHONPATH='.' AWS_PROFILE=dpa luigi --module modelling  RunModelSimple --local-scheduler\n",
    "```"
   ]
  },
  {
   "cell_type": "markdown",
   "metadata": {},
   "source": [
    "# 0.2 Configuración Inicial\n",
    "\n",
    "1. Iniciar EC2 (ssh)\n",
    "\n",
    "```\n",
    "ssh -i /home/paola/.ssh/dpa_prueba.pem ubuntu@ec2-54-147-25-88.compute-1.amazonaws.com\n",
    "\n",
    "```\n",
    "\n",
    "\n",
    "2. Correr Docker\n",
    "\n",
    "```\n",
    "sudo docker run --rm -it \\\n",
    "-v /home/ubuntu/dpa_rita:/home  \\\n",
    "-v $HOME/.aws:/root/.aws:ro  \\\n",
    "-v $HOME/.rita:/root/.rita \\\n",
    "--entrypoint \"/bin/bash\" \\\n",
    "--net=host \\\n",
    "paolamedo/aws_rita:6.0.1\n",
    "```\n",
    "\n",
    "3. Correr luigi\n",
    "```\n",
    "$luigid\n",
    "```\n",
    "\n",
    "4. Crear puente\n",
    "```\n",
    "ssh -i ~/.ssh/dpa_prueba.pem -L localhost:8082:localhost:8082 ubuntu@ec2-54-147-25-88.compute-1.amazonaws.com -v\n",
    "```\n",
    "\n",
    "5. Ver luigi\n",
    "```\n",
    "localhost:8082\n",
    "```\n",
    "\n",
    "6. Otra ventana, dentro de docker.\n",
    "```\n",
    "cd .aws\n",
    "nano credential -> actualizar credenciales\n",
    "```\n",
    "\n",
    "Iniciar orquestadores\n",
    "```\n",
    "cd /home\n",
    "python3 setup.py install\n",
    "cd src/orquestadores\n",
    "```\n"
   ]
  },
  {
   "cell_type": "markdown",
   "metadata": {},
   "source": [
    "### Si es la segunda vez en el dia\n",
    "\n",
    "1. Cambiar id\n",
    "```\n",
    "cd /home/src/orquestadores/\n",
    "nano predictions.py\n",
    "nano bias.py\n",
    "```\n",
    "\n",
    "2. Correr completo \n",
    "```\n",
    "cd /home\n",
    "python3 setup.py install\n",
    "cd src/orquestadores\n",
    "PYTHONPATH='.' AWS_PROFILE=dpa luigi --module luigi_main  Pipeline  --type predict\n",
    "```"
   ]
  },
  {
   "cell_type": "code",
   "execution_count": 4,
   "metadata": {},
   "outputs": [
    {
     "name": "stdout",
     "output_type": "stream",
     "text": [
      "The autoreload extension is already loaded. To reload it, use:\n",
      "  %reload_ext autoreload\n"
     ]
    }
   ],
   "source": [
    "import sys\n",
    "sys.path.append('./../')\n",
    "%load_ext autoreload\n",
    "%autoreload 2\n",
    "\n",
    "import pandas as pd\n",
    "\n",
    "from src.utils.s3_utils import create_bucket, get_s3_objects, describe_s3\n",
    "from src.utils.db_utils import execute_query, show_select,get_select, get_dataframe"
   ]
  },
  {
   "cell_type": "code",
   "execution_count": 5,
   "metadata": {},
   "outputs": [
    {
     "name": "stdout",
     "output_type": "stream",
     "text": [
      "s3.ObjectSummary(bucket_name='models-dpa', key='20200601_0-1.5_LR_=#iter#-%202$%#pca#-%7&.model.zip') 6667\n",
      "s3.ObjectSummary(bucket_name='models-dpa', key='20200601_0-1.5_LR_=#iter#-%205$%#pca#-%9&.model.zip') 6685\n",
      "s3.ObjectSummary(bucket_name='models-dpa', key='20200602_0-1.5_LR_=#iter#-%200$%#pca#-%7&.model.zip') 6667\n",
      "s3.ObjectSummary(bucket_name='models-dpa', key='20200602_0-1.5_LR_=#iter#-%202$%#pca#-%7&.model.zip') 6667\n",
      "s3.ObjectSummary(bucket_name='models-dpa', key='20200603_0-1.5_LR_=#iter#-%202$%#pca#-%7&.model.zip') 6667\n"
     ]
    }
   ],
   "source": [
    "bucket_name = \"models-dpa\"\n",
    "get_s3_objects(bucket_name)"
   ]
  },
  {
   "cell_type": "code",
   "execution_count": 6,
   "metadata": {},
   "outputs": [
    {
     "data": {
      "text/html": [
       "<div>\n",
       "<style scoped>\n",
       "    .dataframe tbody tr th:only-of-type {\n",
       "        vertical-align: middle;\n",
       "    }\n",
       "\n",
       "    .dataframe tbody tr th {\n",
       "        vertical-align: top;\n",
       "    }\n",
       "\n",
       "    .dataframe thead th {\n",
       "        text-align: right;\n",
       "    }\n",
       "</style>\n",
       "<table border=\"1\" class=\"dataframe\">\n",
       "  <thead>\n",
       "    <tr style=\"text-align: right;\">\n",
       "      <th></th>\n",
       "      <th>fecha</th>\n",
       "      <th>objetivo</th>\n",
       "      <th>model_name</th>\n",
       "      <th>s3_name</th>\n",
       "      <th>hyperparams</th>\n",
       "      <th>auroc</th>\n",
       "      <th>aupr</th>\n",
       "      <th>precision</th>\n",
       "      <th>recall</th>\n",
       "      <th>f1</th>\n",
       "      <th>train_time</th>\n",
       "      <th>test_split</th>\n",
       "      <th>train_nrows</th>\n",
       "    </tr>\n",
       "  </thead>\n",
       "  <tbody>\n",
       "    <tr>\n",
       "      <th>0</th>\n",
       "      <td>20200603</td>\n",
       "      <td>0-1.5</td>\n",
       "      <td>LR</td>\n",
       "      <td>20200603_0-1.5_LR_=#iter#-%202$%#pca#-%7&amp;</td>\n",
       "      <td>{\"iter\": 202, \"pca\": 7}</td>\n",
       "      <td>0.633309</td>\n",
       "      <td>0.500579</td>\n",
       "      <td>0.6342182890855457</td>\n",
       "      <td>0.6342182890855457</td>\n",
       "      <td>0.6342182890855457</td>\n",
       "      <td>23.13966464996338</td>\n",
       "      <td>0.2</td>\n",
       "      <td>1361</td>\n",
       "    </tr>\n",
       "    <tr>\n",
       "      <th>1</th>\n",
       "      <td>20200602</td>\n",
       "      <td>0-1.5</td>\n",
       "      <td>LR</td>\n",
       "      <td>20200602_0-1.5_LR_=#iter#-%200$%#pca#-%7&amp;</td>\n",
       "      <td>{\"iter\": 200, \"pca\": 7}</td>\n",
       "      <td>0.627517</td>\n",
       "      <td>0.530529</td>\n",
       "      <td>0.6151603498542274</td>\n",
       "      <td>0.6151603498542274</td>\n",
       "      <td>0.6151603498542274</td>\n",
       "      <td>22.568525314331055</td>\n",
       "      <td>0.2</td>\n",
       "      <td>1357</td>\n",
       "    </tr>\n",
       "    <tr>\n",
       "      <th>2</th>\n",
       "      <td>20200602</td>\n",
       "      <td>0-1.5</td>\n",
       "      <td>LR</td>\n",
       "      <td>20200602_0-1.5_LR_=#iter#-%202$%#pca#-%7&amp;</td>\n",
       "      <td>{\"iter\": 202, \"pca\": 7}</td>\n",
       "      <td>0.613273</td>\n",
       "      <td>0.499783</td>\n",
       "      <td>0.6135693215339233</td>\n",
       "      <td>0.6135693215339233</td>\n",
       "      <td>0.6135693215339233</td>\n",
       "      <td>22.120675086975098</td>\n",
       "      <td>0.2</td>\n",
       "      <td>1361</td>\n",
       "    </tr>\n",
       "    <tr>\n",
       "      <th>3</th>\n",
       "      <td>20200601</td>\n",
       "      <td>0-1.5</td>\n",
       "      <td>LR</td>\n",
       "      <td>20200601_0-1.5_LR_=#iter#-%202$%#pca#-%7&amp;</td>\n",
       "      <td>{\"iter\": 202, \"pca\": 7}</td>\n",
       "      <td>0.987856</td>\n",
       "      <td>0.986579</td>\n",
       "      <td>0.9721254355400697</td>\n",
       "      <td>0.9721254355400697</td>\n",
       "      <td>0.9721254355400697</td>\n",
       "      <td>37.55584955215454</td>\n",
       "      <td>0.2</td>\n",
       "      <td>1154</td>\n",
       "    </tr>\n",
       "    <tr>\n",
       "      <th>4</th>\n",
       "      <td>20200601</td>\n",
       "      <td>0-1.5</td>\n",
       "      <td>LR</td>\n",
       "      <td>20200601_0-1.5_LR_=#iter#-%205$%#pca#-%9&amp;</td>\n",
       "      <td>{\"iter\": 205, \"pca\": 9}</td>\n",
       "      <td>1.000000</td>\n",
       "      <td>1.000000</td>\n",
       "      <td>1.0</td>\n",
       "      <td>1.0</td>\n",
       "      <td>1.0</td>\n",
       "      <td>55.85569787025452</td>\n",
       "      <td>0.2</td>\n",
       "      <td>1195</td>\n",
       "    </tr>\n",
       "  </tbody>\n",
       "</table>\n",
       "</div>"
      ],
      "text/plain": [
       "      fecha objetivo model_name                                    s3_name  \\\n",
       "0  20200603    0-1.5         LR  20200603_0-1.5_LR_=#iter#-%202$%#pca#-%7&   \n",
       "1  20200602    0-1.5         LR  20200602_0-1.5_LR_=#iter#-%200$%#pca#-%7&   \n",
       "2  20200602    0-1.5         LR  20200602_0-1.5_LR_=#iter#-%202$%#pca#-%7&   \n",
       "3  20200601    0-1.5         LR  20200601_0-1.5_LR_=#iter#-%202$%#pca#-%7&   \n",
       "4  20200601    0-1.5         LR  20200601_0-1.5_LR_=#iter#-%205$%#pca#-%9&   \n",
       "\n",
       "               hyperparams     auroc      aupr           precision  \\\n",
       "0  {\"iter\": 202, \"pca\": 7}  0.633309  0.500579  0.6342182890855457   \n",
       "1  {\"iter\": 200, \"pca\": 7}  0.627517  0.530529  0.6151603498542274   \n",
       "2  {\"iter\": 202, \"pca\": 7}  0.613273  0.499783  0.6135693215339233   \n",
       "3  {\"iter\": 202, \"pca\": 7}  0.987856  0.986579  0.9721254355400697   \n",
       "4  {\"iter\": 205, \"pca\": 9}  1.000000  1.000000                 1.0   \n",
       "\n",
       "               recall                  f1          train_time test_split  \\\n",
       "0  0.6342182890855457  0.6342182890855457   23.13966464996338        0.2   \n",
       "1  0.6151603498542274  0.6151603498542274  22.568525314331055        0.2   \n",
       "2  0.6135693215339233  0.6135693215339233  22.120675086975098        0.2   \n",
       "3  0.9721254355400697  0.9721254355400697   37.55584955215454        0.2   \n",
       "4                 1.0                 1.0   55.85569787025452        0.2   \n",
       "\n",
       "  train_nrows  \n",
       "0        1361  \n",
       "1        1357  \n",
       "2        1361  \n",
       "3        1154  \n",
       "4        1195  "
      ]
     },
     "execution_count": 6,
     "metadata": {},
     "output_type": "execute_result"
    }
   ],
   "source": [
    "query = \"select * from metadatos.models order by fecha desc; \"\n",
    "get_dataframe(query)"
   ]
  },
  {
   "cell_type": "markdown",
   "metadata": {},
   "source": [
    "# 1. Corremos bias y fairness del mejor modelo"
   ]
  },
  {
   "cell_type": "markdown",
   "metadata": {},
   "source": [
    "## 1.1 Persistencia de datos\n",
    "Verificar tabla antes"
   ]
  },
  {
   "cell_type": "code",
   "execution_count": 7,
   "metadata": {},
   "outputs": [
    {
     "name": "stdout",
     "output_type": "stream",
     "text": [
      "PostgreSQL connection is closed\n",
      "Error while fetching data from PostgreSQL Length mismatch: Expected axis has 0 elements, new values have 10 elements\n"
     ]
    }
   ],
   "source": [
    "query = \"delete from metadatos.bias;\"\n",
    "execute_query(query)\n",
    "\n",
    "query = \"select * from metadatos.bias order by fecha desc; \"\n",
    "get_dataframe(query)\n",
    "\n",
    "#Si quieremos que vuelva a correr el mismo dia, tenemos que cambiar el ID en orquestadores/bias.py"
   ]
  },
  {
   "cell_type": "markdown",
   "metadata": {},
   "source": [
    "## 1.2  Visualización de Pipeline\n",
    "\n",
    "```\n",
    "PYTHONPATH='.' AWS_PROFILE=dpa luigi --module bias EvaluateBias --local-scheduler\n",
    "```\n",
    "\n",
    "Ambos son lo mismo, (este está más padre): \n",
    "```\n",
    "PYTHONPATH='.' AWS_PROFILE=dpa luigi --module luigi_main  Pipeline --local-scheduler  --type train\n",
    "```\n",
    "\n",
    "Para correr con Luigi Task Visualiser\n",
    "\n",
    "```\n",
    "PYTHONPATH='.' AWS_PROFILE=dpa luigi --module luigi_main  Pipeline  --type train\n",
    "```\n"
   ]
  },
  {
   "cell_type": "markdown",
   "metadata": {},
   "source": [
    "## 1.3  Verificación de persistencia de metadatos"
   ]
  },
  {
   "cell_type": "code",
   "execution_count": 8,
   "metadata": {},
   "outputs": [
    {
     "data": {
      "text/html": [
       "<div>\n",
       "<style scoped>\n",
       "    .dataframe tbody tr th:only-of-type {\n",
       "        vertical-align: middle;\n",
       "    }\n",
       "\n",
       "    .dataframe tbody tr th {\n",
       "        vertical-align: top;\n",
       "    }\n",
       "\n",
       "    .dataframe thead th {\n",
       "        text-align: right;\n",
       "    }\n",
       "</style>\n",
       "<table border=\"1\" class=\"dataframe\">\n",
       "  <thead>\n",
       "    <tr style=\"text-align: right;\">\n",
       "      <th></th>\n",
       "      <th>fecha</th>\n",
       "      <th>s3_name</th>\n",
       "      <th>attribute_value_q1</th>\n",
       "      <th>attribute_value_q2</th>\n",
       "      <th>attribute_value_q3</th>\n",
       "      <th>attribute_value_q4</th>\n",
       "      <th>fpr_disparity_q1</th>\n",
       "      <th>fpr_disparity_q2</th>\n",
       "      <th>fpr_disparity_q3</th>\n",
       "      <th>fpr_disparity_q4</th>\n",
       "    </tr>\n",
       "  </thead>\n",
       "  <tbody>\n",
       "    <tr>\n",
       "      <th>0</th>\n",
       "      <td>20200603</td>\n",
       "      <td>20200601_0-1.5_LR_=#iter#-%205$%#pca#-%9&amp;</td>\n",
       "      <td>335.00-461.00</td>\n",
       "      <td>461.00-861.00</td>\n",
       "      <td>861.00-2133.00</td>\n",
       "      <td>89.00-335.00</td>\n",
       "      <td>0.945274</td>\n",
       "      <td>1.0</td>\n",
       "      <td>1.116022</td>\n",
       "      <td>1.0</td>\n",
       "    </tr>\n",
       "  </tbody>\n",
       "</table>\n",
       "</div>"
      ],
      "text/plain": [
       "      fecha                                    s3_name attribute_value_q1  \\\n",
       "0  20200603  20200601_0-1.5_LR_=#iter#-%205$%#pca#-%9&      335.00-461.00   \n",
       "\n",
       "  attribute_value_q2 attribute_value_q3 attribute_value_q4  fpr_disparity_q1  \\\n",
       "0      461.00-861.00     861.00-2133.00       89.00-335.00          0.945274   \n",
       "\n",
       "   fpr_disparity_q2  fpr_disparity_q3  fpr_disparity_q4  \n",
       "0               1.0          1.116022               1.0  "
      ]
     },
     "execution_count": 8,
     "metadata": {},
     "output_type": "execute_result"
    }
   ],
   "source": [
    "query = \"select * from metadatos.bias order by fecha desc; \"\n",
    "get_dataframe(query)"
   ]
  },
  {
   "cell_type": "markdown",
   "metadata": {},
   "source": [
    "## 1.4 Verificación del PostgresTasks\n",
    "```\n",
    "PYTHONPATH='.' AWS_PROFILE=dpa luigi --module luigi_main  Pipeline --local-scheduler  --type train\n",
    "```"
   ]
  },
  {
   "cell_type": "code",
   "execution_count": 9,
   "metadata": {},
   "outputs": [
    {
     "data": {
      "text/html": [
       "<div>\n",
       "<style scoped>\n",
       "    .dataframe tbody tr th:only-of-type {\n",
       "        vertical-align: middle;\n",
       "    }\n",
       "\n",
       "    .dataframe tbody tr th {\n",
       "        vertical-align: top;\n",
       "    }\n",
       "\n",
       "    .dataframe thead th {\n",
       "        text-align: right;\n",
       "    }\n",
       "</style>\n",
       "<table border=\"1\" class=\"dataframe\">\n",
       "  <thead>\n",
       "    <tr style=\"text-align: right;\">\n",
       "      <th></th>\n",
       "      <th>fecha</th>\n",
       "      <th>s3_name</th>\n",
       "      <th>attribute_value_q1</th>\n",
       "      <th>attribute_value_q2</th>\n",
       "      <th>attribute_value_q3</th>\n",
       "      <th>attribute_value_q4</th>\n",
       "      <th>fpr_disparity_q1</th>\n",
       "      <th>fpr_disparity_q2</th>\n",
       "      <th>fpr_disparity_q3</th>\n",
       "      <th>fpr_disparity_q4</th>\n",
       "    </tr>\n",
       "  </thead>\n",
       "  <tbody>\n",
       "    <tr>\n",
       "      <th>0</th>\n",
       "      <td>20200603</td>\n",
       "      <td>20200601_0-1.5_LR_=#iter#-%205$%#pca#-%9&amp;</td>\n",
       "      <td>335.00-461.00</td>\n",
       "      <td>461.00-861.00</td>\n",
       "      <td>861.00-2133.00</td>\n",
       "      <td>89.00-335.00</td>\n",
       "      <td>0.945274</td>\n",
       "      <td>1.0</td>\n",
       "      <td>1.116022</td>\n",
       "      <td>1.0</td>\n",
       "    </tr>\n",
       "  </tbody>\n",
       "</table>\n",
       "</div>"
      ],
      "text/plain": [
       "      fecha                                    s3_name attribute_value_q1  \\\n",
       "0  20200603  20200601_0-1.5_LR_=#iter#-%205$%#pca#-%9&      335.00-461.00   \n",
       "\n",
       "  attribute_value_q2 attribute_value_q3 attribute_value_q4  fpr_disparity_q1  \\\n",
       "0      461.00-861.00     861.00-2133.00       89.00-335.00          0.945274   \n",
       "\n",
       "   fpr_disparity_q2  fpr_disparity_q3  fpr_disparity_q4  \n",
       "0               1.0          1.116022               1.0  "
      ]
     },
     "execution_count": 9,
     "metadata": {},
     "output_type": "execute_result"
    }
   ],
   "source": [
    "query = \"select * from metadatos.bias order by fecha desc; \"\n",
    "get_dataframe(query)"
   ]
  },
  {
   "cell_type": "markdown",
   "metadata": {},
   "source": [
    "# 2. Corremos predicciones\n",
    "\n",
    "+ Validaciones de predicciones marbles\n",
    "  + Primera vez no pasa (si guardas metadatos, se guardan cuando falla)\n",
    "  + Segunda vez pasa, guarda metadatos\n",
    "  \n",
    "+ Visualización de tu pipeline\n",
    "+ Verificamos metadata de predicciones"
   ]
  },
  {
   "cell_type": "markdown",
   "metadata": {},
   "source": [
    "## 2.0 Verificamos que no haya predicciones"
   ]
  },
  {
   "cell_type": "code",
   "execution_count": 12,
   "metadata": {},
   "outputs": [],
   "source": [
    "#aws s3 rm s3://preds-dpa --recursive\n",
    "bucket_name = \"preds-dpa\"\n",
    "get_s3_objects(bucket_name)"
   ]
  },
  {
   "cell_type": "code",
   "execution_count": 13,
   "metadata": {},
   "outputs": [
    {
     "name": "stdout",
     "output_type": "stream",
     "text": [
      "PostgreSQL connection is closed\n",
      "Error while fetching data from PostgreSQL Length mismatch: Expected axis has 0 elements, new values have 5 elements\n"
     ]
    }
   ],
   "source": [
    "query = \"delete from predictions.test;\"\n",
    "execute_query(query)\n",
    "\n",
    "query = \" select * from predictions.test  order by s3_name desc limit 10; \"\n",
    "get_dataframe(query)"
   ]
  },
  {
   "cell_type": "code",
   "execution_count": 14,
   "metadata": {},
   "outputs": [
    {
     "name": "stdout",
     "output_type": "stream",
     "text": [
      "PostgreSQL connection is closed\n",
      "Error while fetching data from PostgreSQL Length mismatch: Expected axis has 0 elements, new values have 5 elements\n"
     ]
    }
   ],
   "source": [
    "query = \"delete from metadatos.predictions;\"\n",
    "execute_query(query)\n",
    "\n",
    "query = \"select * from metadatos.predictions order by fecha; \"\n",
    "get_dataframe(query)"
   ]
  },
  {
   "cell_type": "markdown",
   "metadata": {},
   "source": [
    "## 2.1 Validaciones de predicciones marbles"
   ]
  },
  {
   "cell_type": "code",
   "execution_count": 15,
   "metadata": {},
   "outputs": [
    {
     "name": "stdout",
     "output_type": "stream",
     "text": [
      "PostgreSQL connection is closed\n",
      "Error while fetching data from PostgreSQL Length mismatch: Expected axis has 0 elements, new values have 4 elements\n"
     ]
    }
   ],
   "source": [
    "query = \"delete from metadatos.testing_predict_cols;\"\n",
    "execute_query(query)\n",
    "\n",
    "query = \"select * from metadatos.testing_predict_cols order by fecha desc; \"\n",
    "get_dataframe(query)"
   ]
  },
  {
   "cell_type": "code",
   "execution_count": 16,
   "metadata": {},
   "outputs": [
    {
     "name": "stdout",
     "output_type": "stream",
     "text": [
      "PostgreSQL connection is closed\n",
      "Error while fetching data from PostgreSQL Length mismatch: Expected axis has 0 elements, new values have 4 elements\n"
     ]
    }
   ],
   "source": [
    "query = \"delete from metadatos.testing_predict_types;\"\n",
    "execute_query(query)\n",
    "\n",
    "query = \"select * from metadatos.testing_predict_types order by fecha desc; \"\n",
    "get_dataframe(query)"
   ]
  },
  {
   "cell_type": "markdown",
   "metadata": {},
   "source": [
    "### 2.1.1 Primera vez no pasa (si guardas metadatos, se guardan cuando falla)"
   ]
  },
  {
   "cell_type": "markdown",
   "metadata": {},
   "source": [
    "1. Modificar src/unit_tests/predict_columns.py (donde dice #PARA QUE FALLE)\n",
    "    * En un mismo dia, cambiar el update_id en orquestadores/predictions.py\n",
    "    \n",
    "```\n",
    "cd /home/src/unit_tests/\n",
    "nano predict_columns.py\n",
    "```\n",
    "   \n",
    "2. Correr task de predict\n",
    "```\n",
    "cd /home\n",
    "python3 setup.py install\n",
    "cd src/orquestadores\n",
    "PYTHONPATH='.' AWS_PROFILE=dpa luigi --module luigi_main  Pipeline --type predict\n",
    "```\n",
    "\n",
    "3. \n",
    "Este en local: \n",
    "```\n",
    "PYTHONPATH='.' AWS_PROFILE=dpa luigi --module luigi_main  Pipeline --local-scheduler  --type predict\n",
    "```"
   ]
  },
  {
   "cell_type": "code",
   "execution_count": 17,
   "metadata": {},
   "outputs": [
    {
     "data": {
      "text/html": [
       "<div>\n",
       "<style scoped>\n",
       "    .dataframe tbody tr th:only-of-type {\n",
       "        vertical-align: middle;\n",
       "    }\n",
       "\n",
       "    .dataframe tbody tr th {\n",
       "        vertical-align: top;\n",
       "    }\n",
       "\n",
       "    .dataframe thead th {\n",
       "        text-align: right;\n",
       "    }\n",
       "</style>\n",
       "<table border=\"1\" class=\"dataframe\">\n",
       "  <thead>\n",
       "    <tr style=\"text-align: right;\">\n",
       "      <th></th>\n",
       "      <th>fecha</th>\n",
       "      <th>nombre_task</th>\n",
       "      <th>task_status</th>\n",
       "      <th>msg_error</th>\n",
       "    </tr>\n",
       "  </thead>\n",
       "  <tbody>\n",
       "    <tr>\n",
       "      <th>0</th>\n",
       "      <td>03062020</td>\n",
       "      <td>check_columns</td>\n",
       "      <td>failure</td>\n",
       "      <td>number of columns do not match</td>\n",
       "    </tr>\n",
       "  </tbody>\n",
       "</table>\n",
       "</div>"
      ],
      "text/plain": [
       "      fecha    nombre_task task_status                       msg_error\n",
       "0  03062020  check_columns     failure  number of columns do not match"
      ]
     },
     "execution_count": 17,
     "metadata": {},
     "output_type": "execute_result"
    }
   ],
   "source": [
    "query = \"select * from metadatos.testing_predict_cols order by fecha desc; \"\n",
    "get_dataframe(query)"
   ]
  },
  {
   "cell_type": "markdown",
   "metadata": {},
   "source": [
    "### 2.1.2 Segunda vez pasa, guarda metadatos"
   ]
  },
  {
   "cell_type": "markdown",
   "metadata": {},
   "source": [
    "3. Volver a modificar\n",
    "    \n",
    "```\n",
    "cd /home/src/unit_tests/\n",
    "nano predict_columns.py\n",
    "```\n",
    "\n",
    "4. Correr task de predict\n",
    "```\n",
    "cd /home\n",
    "python3 setup.py install\n",
    "cd src/orquestadores\n",
    "PYTHONPATH='.' AWS_PROFILE=dpa luigi --module luigi_main  Pipeline  --type predict\n",
    "```"
   ]
  },
  {
   "cell_type": "code",
   "execution_count": 18,
   "metadata": {},
   "outputs": [
    {
     "data": {
      "text/html": [
       "<div>\n",
       "<style scoped>\n",
       "    .dataframe tbody tr th:only-of-type {\n",
       "        vertical-align: middle;\n",
       "    }\n",
       "\n",
       "    .dataframe tbody tr th {\n",
       "        vertical-align: top;\n",
       "    }\n",
       "\n",
       "    .dataframe thead th {\n",
       "        text-align: right;\n",
       "    }\n",
       "</style>\n",
       "<table border=\"1\" class=\"dataframe\">\n",
       "  <thead>\n",
       "    <tr style=\"text-align: right;\">\n",
       "      <th></th>\n",
       "      <th>fecha</th>\n",
       "      <th>nombre_task</th>\n",
       "      <th>task_status</th>\n",
       "      <th>msg_error</th>\n",
       "    </tr>\n",
       "  </thead>\n",
       "  <tbody>\n",
       "    <tr>\n",
       "      <th>0</th>\n",
       "      <td>03062020</td>\n",
       "      <td>check_columns</td>\n",
       "      <td>failure</td>\n",
       "      <td>number of columns do not match</td>\n",
       "    </tr>\n",
       "    <tr>\n",
       "      <th>1</th>\n",
       "      <td>03062020</td>\n",
       "      <td>check_columns</td>\n",
       "      <td>success</td>\n",
       "      <td>none</td>\n",
       "    </tr>\n",
       "  </tbody>\n",
       "</table>\n",
       "</div>"
      ],
      "text/plain": [
       "      fecha    nombre_task task_status                       msg_error\n",
       "0  03062020  check_columns     failure  number of columns do not match\n",
       "1  03062020  check_columns     success                            none"
      ]
     },
     "execution_count": 18,
     "metadata": {},
     "output_type": "execute_result"
    }
   ],
   "source": [
    "query = \"select * from metadatos.testing_predict_cols order by fecha desc; \"\n",
    "get_dataframe(query)"
   ]
  },
  {
   "cell_type": "code",
   "execution_count": 19,
   "metadata": {},
   "outputs": [
    {
     "data": {
      "text/html": [
       "<div>\n",
       "<style scoped>\n",
       "    .dataframe tbody tr th:only-of-type {\n",
       "        vertical-align: middle;\n",
       "    }\n",
       "\n",
       "    .dataframe tbody tr th {\n",
       "        vertical-align: top;\n",
       "    }\n",
       "\n",
       "    .dataframe thead th {\n",
       "        text-align: right;\n",
       "    }\n",
       "</style>\n",
       "<table border=\"1\" class=\"dataframe\">\n",
       "  <thead>\n",
       "    <tr style=\"text-align: right;\">\n",
       "      <th></th>\n",
       "      <th>fecha</th>\n",
       "      <th>nombre_task</th>\n",
       "      <th>task_status</th>\n",
       "      <th>msg_error</th>\n",
       "    </tr>\n",
       "  </thead>\n",
       "  <tbody>\n",
       "    <tr>\n",
       "      <th>0</th>\n",
       "      <td>03062020</td>\n",
       "      <td>check_columns_types</td>\n",
       "      <td>success</td>\n",
       "      <td>none</td>\n",
       "    </tr>\n",
       "  </tbody>\n",
       "</table>\n",
       "</div>"
      ],
      "text/plain": [
       "      fecha          nombre_task task_status msg_error\n",
       "0  03062020  check_columns_types     success      none"
      ]
     },
     "execution_count": 19,
     "metadata": {},
     "output_type": "execute_result"
    }
   ],
   "source": [
    "query = \"select * from metadatos.testing_predict_types order by fecha desc; \"\n",
    "get_dataframe(query)"
   ]
  },
  {
   "cell_type": "markdown",
   "metadata": {},
   "source": [
    "## 2.2 Visualización de tu pipeline\n",
    "En localhost orquestador"
   ]
  },
  {
   "cell_type": "markdown",
   "metadata": {},
   "source": [
    "## 2.3 Verificamos metadata de predicciones"
   ]
  },
  {
   "cell_type": "code",
   "execution_count": 20,
   "metadata": {},
   "outputs": [
    {
     "data": {
      "text/html": [
       "<div>\n",
       "<style scoped>\n",
       "    .dataframe tbody tr th:only-of-type {\n",
       "        vertical-align: middle;\n",
       "    }\n",
       "\n",
       "    .dataframe tbody tr th {\n",
       "        vertical-align: top;\n",
       "    }\n",
       "\n",
       "    .dataframe thead th {\n",
       "        text-align: right;\n",
       "    }\n",
       "</style>\n",
       "<table border=\"1\" class=\"dataframe\">\n",
       "  <thead>\n",
       "    <tr style=\"text-align: right;\">\n",
       "      <th></th>\n",
       "      <th>fecha</th>\n",
       "      <th>s3_name_model</th>\n",
       "      <th>s3_name_pred</th>\n",
       "      <th>number_pred</th>\n",
       "      <th>binary_stats</th>\n",
       "    </tr>\n",
       "  </thead>\n",
       "  <tbody>\n",
       "    <tr>\n",
       "      <th>0</th>\n",
       "      <td>20200603</td>\n",
       "      <td>20200601_0-1.5_LR_=#iter#-%205$%#pca#-%9&amp;</td>\n",
       "      <td>20200601_0-1.5_LR_=#iter#-%205$%#pca#-%9&amp;.preds</td>\n",
       "      <td>1700</td>\n",
       "      <td>1.0</td>\n",
       "    </tr>\n",
       "  </tbody>\n",
       "</table>\n",
       "</div>"
      ],
      "text/plain": [
       "      fecha                              s3_name_model  \\\n",
       "0  20200603  20200601_0-1.5_LR_=#iter#-%205$%#pca#-%9&   \n",
       "\n",
       "                                      s3_name_pred  number_pred  binary_stats  \n",
       "0  20200601_0-1.5_LR_=#iter#-%205$%#pca#-%9&.preds         1700           1.0  "
      ]
     },
     "execution_count": 20,
     "metadata": {},
     "output_type": "execute_result"
    }
   ],
   "source": [
    "query = \"select * from metadatos.predictions order by fecha; \"\n",
    "get_dataframe(query)"
   ]
  },
  {
   "cell_type": "markdown",
   "metadata": {},
   "source": [
    "## 2.4 Verificamos que hayamos guardado las predicciones"
   ]
  },
  {
   "cell_type": "code",
   "execution_count": 21,
   "metadata": {},
   "outputs": [
    {
     "name": "stdout",
     "output_type": "stream",
     "text": [
      "s3.ObjectSummary(bucket_name='preds-dpa', key='20200601_0-1.5_LR_=#iter#-%205$%#pca#-%9&.preds') 126891\n"
     ]
    }
   ],
   "source": [
    "bucket_name = \"preds-dpa\"\n",
    "get_s3_objects(bucket_name)"
   ]
  },
  {
   "cell_type": "code",
   "execution_count": 22,
   "metadata": {},
   "outputs": [
    {
     "data": {
      "text/html": [
       "<div>\n",
       "<style scoped>\n",
       "    .dataframe tbody tr th:only-of-type {\n",
       "        vertical-align: middle;\n",
       "    }\n",
       "\n",
       "    .dataframe tbody tr th {\n",
       "        vertical-align: top;\n",
       "    }\n",
       "\n",
       "    .dataframe thead th {\n",
       "        text-align: right;\n",
       "    }\n",
       "</style>\n",
       "<table border=\"1\" class=\"dataframe\">\n",
       "  <thead>\n",
       "    <tr style=\"text-align: right;\">\n",
       "      <th></th>\n",
       "      <th>flight_number</th>\n",
       "      <th>distance</th>\n",
       "      <th>prediction</th>\n",
       "      <th>s3_name</th>\n",
       "      <th>fecha</th>\n",
       "    </tr>\n",
       "  </thead>\n",
       "  <tbody>\n",
       "    <tr>\n",
       "      <th>0</th>\n",
       "      <td>1609.0</td>\n",
       "      <td>650.0</td>\n",
       "      <td>1.0</td>\n",
       "      <td>20200601_0-1.5_LR_=#iter#-%205$%#pca#-%9&amp;</td>\n",
       "      <td>20200201.0</td>\n",
       "    </tr>\n",
       "    <tr>\n",
       "      <th>1</th>\n",
       "      <td>1613.0</td>\n",
       "      <td>1045.0</td>\n",
       "      <td>1.0</td>\n",
       "      <td>20200601_0-1.5_LR_=#iter#-%205$%#pca#-%9&amp;</td>\n",
       "      <td>20200216.0</td>\n",
       "    </tr>\n",
       "    <tr>\n",
       "      <th>2</th>\n",
       "      <td>5687.0</td>\n",
       "      <td>372.0</td>\n",
       "      <td>1.0</td>\n",
       "      <td>20200601_0-1.5_LR_=#iter#-%205$%#pca#-%9&amp;</td>\n",
       "      <td>20200216.0</td>\n",
       "    </tr>\n",
       "    <tr>\n",
       "      <th>3</th>\n",
       "      <td>574.0</td>\n",
       "      <td>197.0</td>\n",
       "      <td>1.0</td>\n",
       "      <td>20200601_0-1.5_LR_=#iter#-%205$%#pca#-%9&amp;</td>\n",
       "      <td>20200206.0</td>\n",
       "    </tr>\n",
       "    <tr>\n",
       "      <th>4</th>\n",
       "      <td>3311.0</td>\n",
       "      <td>733.0</td>\n",
       "      <td>1.0</td>\n",
       "      <td>20200601_0-1.5_LR_=#iter#-%205$%#pca#-%9&amp;</td>\n",
       "      <td>20200207.0</td>\n",
       "    </tr>\n",
       "    <tr>\n",
       "      <th>5</th>\n",
       "      <td>3303.0</td>\n",
       "      <td>383.0</td>\n",
       "      <td>1.0</td>\n",
       "      <td>20200601_0-1.5_LR_=#iter#-%205$%#pca#-%9&amp;</td>\n",
       "      <td>20200207.0</td>\n",
       "    </tr>\n",
       "    <tr>\n",
       "      <th>6</th>\n",
       "      <td>3335.0</td>\n",
       "      <td>461.0</td>\n",
       "      <td>1.0</td>\n",
       "      <td>20200601_0-1.5_LR_=#iter#-%205$%#pca#-%9&amp;</td>\n",
       "      <td>20200207.0</td>\n",
       "    </tr>\n",
       "    <tr>\n",
       "      <th>7</th>\n",
       "      <td>3322.0</td>\n",
       "      <td>335.0</td>\n",
       "      <td>1.0</td>\n",
       "      <td>20200601_0-1.5_LR_=#iter#-%205$%#pca#-%9&amp;</td>\n",
       "      <td>20200207.0</td>\n",
       "    </tr>\n",
       "    <tr>\n",
       "      <th>8</th>\n",
       "      <td>1595.0</td>\n",
       "      <td>190.0</td>\n",
       "      <td>1.0</td>\n",
       "      <td>20200601_0-1.5_LR_=#iter#-%205$%#pca#-%9&amp;</td>\n",
       "      <td>20200203.0</td>\n",
       "    </tr>\n",
       "    <tr>\n",
       "      <th>9</th>\n",
       "      <td>1607.0</td>\n",
       "      <td>1021.0</td>\n",
       "      <td>1.0</td>\n",
       "      <td>20200601_0-1.5_LR_=#iter#-%205$%#pca#-%9&amp;</td>\n",
       "      <td>20200201.0</td>\n",
       "    </tr>\n",
       "  </tbody>\n",
       "</table>\n",
       "</div>"
      ],
      "text/plain": [
       "   flight_number  distance prediction  \\\n",
       "0         1609.0     650.0        1.0   \n",
       "1         1613.0    1045.0        1.0   \n",
       "2         5687.0     372.0        1.0   \n",
       "3          574.0     197.0        1.0   \n",
       "4         3311.0     733.0        1.0   \n",
       "5         3303.0     383.0        1.0   \n",
       "6         3335.0     461.0        1.0   \n",
       "7         3322.0     335.0        1.0   \n",
       "8         1595.0     190.0        1.0   \n",
       "9         1607.0    1021.0        1.0   \n",
       "\n",
       "                                     s3_name       fecha  \n",
       "0  20200601_0-1.5_LR_=#iter#-%205$%#pca#-%9&  20200201.0  \n",
       "1  20200601_0-1.5_LR_=#iter#-%205$%#pca#-%9&  20200216.0  \n",
       "2  20200601_0-1.5_LR_=#iter#-%205$%#pca#-%9&  20200216.0  \n",
       "3  20200601_0-1.5_LR_=#iter#-%205$%#pca#-%9&  20200206.0  \n",
       "4  20200601_0-1.5_LR_=#iter#-%205$%#pca#-%9&  20200207.0  \n",
       "5  20200601_0-1.5_LR_=#iter#-%205$%#pca#-%9&  20200207.0  \n",
       "6  20200601_0-1.5_LR_=#iter#-%205$%#pca#-%9&  20200207.0  \n",
       "7  20200601_0-1.5_LR_=#iter#-%205$%#pca#-%9&  20200207.0  \n",
       "8  20200601_0-1.5_LR_=#iter#-%205$%#pca#-%9&  20200203.0  \n",
       "9  20200601_0-1.5_LR_=#iter#-%205$%#pca#-%9&  20200201.0  "
      ]
     },
     "execution_count": 22,
     "metadata": {},
     "output_type": "execute_result"
    }
   ],
   "source": [
    "query = \" select * from predictions.test  order by s3_name desc limit 10; \"\n",
    "get_dataframe(query)"
   ]
  },
  {
   "cell_type": "markdown",
   "metadata": {},
   "source": [
    "# 3. Verificamos el endpoint de tu API\n",
    "\n",
    "1. Instala flask\n",
    "```\n",
    " pip install flask_restx\n",
    "```\n",
    "\n",
    "2. Crear puente\n",
    "\n",
    "```\n",
    "ssh -i ~/.ssh/dpa_prueba.pem -L localhost:5000:localhost:5000 ubuntu@ec2-54-147-25-88.compute-1.amazonaws.com -v\n",
    "```\n",
    "\n",
    "\n",
    "3. Corre app\n",
    "```\n",
    "cd /home\n",
    "python3 setup.py install\n",
    "cd src/deploy\n",
    "python3 app.py\n",
    "```\n",
    "\n",
    "4. Ver predicciones \n",
    "```\n",
    "http://127.0.0.1:5000/predicts/1609\n",
    "```\n",
    "\n",
    "5. Ver swagger\n",
    "```\n",
    "http://127.0.0.1:5000/swagger.json\n",
    "```\n",
    "\n"
   ]
  },
  {
   "cell_type": "markdown",
   "metadata": {},
   "source": [
    "# 4. Verificamos dashboard de monitoreo\n",
    "\n",
    "- Magia en Shinny <3"
   ]
  },
  {
   "cell_type": "markdown",
   "metadata": {},
   "source": [
    "# Extra. Correr todo el Pipeline"
   ]
  },
  {
   "cell_type": "markdown",
   "metadata": {},
   "source": [
    "1. Para CopyToTable\n",
    "```\n",
    "delete from table_updates;\n",
    "```\n",
    "\n",
    "2. Borrar targets\n",
    "\n",
    "```\n",
    "cd /home/src/orquestadores/target\n",
    "rm *.txt\n",
    "```\n",
    "\n",
    "\n",
    "3. Cambiar id\n",
    "```\n",
    "cd /home/src/orquestadores/\n",
    "nano predictions.py\n",
    "nano bias.py\n",
    "nano modelling.py <- cambiar parametros de modelo\n",
    "```\n",
    "\n",
    "4. Correr completo \n",
    "```\n",
    "cd /home\n",
    "python3 setup.py install\n",
    "cd src/orquestadores\n",
    "PYTHONPATH='.' AWS_PROFILE=dpa luigi --module luigi_main  Pipeline  --type predict\n",
    "```"
   ]
  },
  {
   "cell_type": "code",
   "execution_count": null,
   "metadata": {},
   "outputs": [],
   "source": []
  }
 ],
 "metadata": {
  "kernelspec": {
   "display_name": "Python 3",
   "language": "python",
   "name": "python3"
  },
  "language_info": {
   "codemirror_mode": {
    "name": "ipython",
    "version": 3
   },
   "file_extension": ".py",
   "mimetype": "text/x-python",
   "name": "python",
   "nbconvert_exporter": "python",
   "pygments_lexer": "ipython3",
   "version": "3.7.6"
  }
 },
 "nbformat": 4,
 "nbformat_minor": 4
}
